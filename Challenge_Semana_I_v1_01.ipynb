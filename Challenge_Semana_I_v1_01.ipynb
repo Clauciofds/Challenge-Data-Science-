{
  "nbformat": 4,
  "nbformat_minor": 0,
  "metadata": {
    "colab": {
      "provenance": [],
      "authorship_tag": "ABX9TyPQ/SWQaE1D93PDIOAJW07A",
      "include_colab_link": true
    },
    "kernelspec": {
      "name": "python3",
      "display_name": "Python 3"
    },
    "language_info": {
      "name": "python"
    }
  },
  "cells": [
    {
      "cell_type": "markdown",
      "metadata": {
        "id": "view-in-github",
        "colab_type": "text"
      },
      "source": [
        "<a href=\"https://colab.research.google.com/github/Clauciofds/Challenge-Data-Science2/blob/main/Challenge_Semana_I_v1_01.ipynb\" target=\"_parent\"><img src=\"https://colab.research.google.com/assets/colab-badge.svg\" alt=\"Open In Colab\"/></a>"
      ]
    },
    {
      "cell_type": "markdown",
      "source": [
        "\n",
        "> Este é um projeto que tem como finalidade exercitar e desenvolver conhecimentos adiquiridos no curso que estou realizando pela Alura. Desta forma deve ser visto como um exercício e um projeto de desenvolvimento profissional."
      ],
      "metadata": {
        "id": "jrrOuBWQJICo"
      }
    },
    {
      "cell_type": "markdown",
      "source": [
        "# Lendo os dados"
      ],
      "metadata": {
        "id": "QL9PtNPEngi4"
      }
    },
    {
      "cell_type": "markdown",
      "source": [
        "Deve-se indicar o caminho onde o arquivo está armazenado e neste caso descompactar o banco de dados.\n",
        "O método abaixo e uma forma mais rapida e prática para rodar este df neste projeto.\n",
        "\n",
        "A InsightPlaces disponibilizou os dados contidos no banco de dados quanto às informações de preços de imóveis da cidade do Rio de Janeiro"
      ],
      "metadata": {
        "id": "8vUitqfuGiB-"
      }
    },
    {
      "cell_type": "code",
      "execution_count": 1,
      "metadata": {
        "colab": {
          "base_uri": "https://localhost:8080/"
        },
        "id": "K_MSenDlg12O",
        "outputId": "9b3d375d-ed08-4e91-fe22-0a0020a45842"
      },
      "outputs": [
        {
          "output_type": "stream",
          "name": "stdout",
          "text": [
            "sample_data\n"
          ]
        }
      ],
      "source": [
        "!ls"
      ]
    },
    {
      "cell_type": "code",
      "source": [
        "!wget 'https://github.com/Clauciofds/Challenge-Data-Science2/raw/main/Dados/semana-1.zip' && unzip semana-1.zip -d dados/"
      ],
      "metadata": {
        "id": "ZvvBn1eknqYF",
        "colab": {
          "base_uri": "https://localhost:8080/"
        },
        "outputId": "709d2b52-7194-4a4f-ab22-d787f535d6cc"
      },
      "execution_count": 2,
      "outputs": [
        {
          "output_type": "stream",
          "name": "stdout",
          "text": [
            "--2022-12-07 16:21:12--  https://github.com/Clauciofds/Challenge-Data-Science2/raw/main/Dados/semana-1.zip\n",
            "Resolving github.com (github.com)... 140.82.114.4\n",
            "Connecting to github.com (github.com)|140.82.114.4|:443... connected.\n",
            "HTTP request sent, awaiting response... 302 Found\n",
            "Location: https://raw.githubusercontent.com/Clauciofds/Challenge-Data-Science2/main/Dados/semana-1.zip [following]\n",
            "--2022-12-07 16:21:12--  https://raw.githubusercontent.com/Clauciofds/Challenge-Data-Science2/main/Dados/semana-1.zip\n",
            "Resolving raw.githubusercontent.com (raw.githubusercontent.com)... 185.199.108.133, 185.199.111.133, 185.199.110.133, ...\n",
            "Connecting to raw.githubusercontent.com (raw.githubusercontent.com)|185.199.108.133|:443... connected.\n",
            "HTTP request sent, awaiting response... 200 OK\n",
            "Length: 18975214 (18M) [application/zip]\n",
            "Saving to: ‘semana-1.zip’\n",
            "\n",
            "semana-1.zip        100%[===================>]  18.10M  --.-KB/s    in 0.1s    \n",
            "\n",
            "2022-12-07 16:21:13 (131 MB/s) - ‘semana-1.zip’ saved [18975214/18975214]\n",
            "\n",
            "Archive:  semana-1.zip\n",
            "  inflating: dados/dataset_bruto.json  \n"
          ]
        }
      ]
    },
    {
      "cell_type": "markdown",
      "source": [
        "Nesta célula instalei e inicilizei um sessão do pyspark v.3.3.1 (2022/11)"
      ],
      "metadata": {
        "id": "TzZaLRwvGH9L"
      }
    },
    {
      "cell_type": "code",
      "source": [
        "!pip install pyspark==3.3.1\n",
        "from pyspark.sql import SparkSession\n",
        "spark = SparkSession.builder \\\n",
        "    .master('local[*]') \\\n",
        "    .appName('Transformando com Spark') \\\n",
        "    .getOrCreate()\n",
        "\n",
        "spark"
      ],
      "metadata": {
        "colab": {
          "base_uri": "https://localhost:8080/",
          "height": 482
        },
        "id": "ZYkEfWcBpHTG",
        "outputId": "ac554921-7ef8-4255-ce93-5a5755f47e33"
      },
      "execution_count": 3,
      "outputs": [
        {
          "output_type": "stream",
          "name": "stdout",
          "text": [
            "Looking in indexes: https://pypi.org/simple, https://us-python.pkg.dev/colab-wheels/public/simple/\n",
            "Collecting pyspark==3.3.1\n",
            "  Downloading pyspark-3.3.1.tar.gz (281.4 MB)\n",
            "\u001b[K     |████████████████████████████████| 281.4 MB 33 kB/s \n",
            "\u001b[?25hCollecting py4j==0.10.9.5\n",
            "  Downloading py4j-0.10.9.5-py2.py3-none-any.whl (199 kB)\n",
            "\u001b[K     |████████████████████████████████| 199 kB 55.7 MB/s \n",
            "\u001b[?25hBuilding wheels for collected packages: pyspark\n",
            "  Building wheel for pyspark (setup.py) ... \u001b[?25l\u001b[?25hdone\n",
            "  Created wheel for pyspark: filename=pyspark-3.3.1-py2.py3-none-any.whl size=281845512 sha256=acc441f13f339c3ed9106c290bcf9d04ec4b604485cd5b6343e8871f82dcd15a\n",
            "  Stored in directory: /root/.cache/pip/wheels/43/dc/11/ec201cd671da62fa9c5cc77078235e40722170ceba231d7598\n",
            "Successfully built pyspark\n",
            "Installing collected packages: py4j, pyspark\n",
            "Successfully installed py4j-0.10.9.5 pyspark-3.3.1\n"
          ]
        },
        {
          "output_type": "execute_result",
          "data": {
            "text/plain": [
              "<pyspark.sql.session.SparkSession at 0x7fb56a7249a0>"
            ],
            "text/html": [
              "\n",
              "            <div>\n",
              "                <p><b>SparkSession - in-memory</b></p>\n",
              "                \n",
              "        <div>\n",
              "            <p><b>SparkContext</b></p>\n",
              "\n",
              "            <p><a href=\"http://513a770dddc2:4040\">Spark UI</a></p>\n",
              "\n",
              "            <dl>\n",
              "              <dt>Version</dt>\n",
              "                <dd><code>v3.3.1</code></dd>\n",
              "              <dt>Master</dt>\n",
              "                <dd><code>local[*]</code></dd>\n",
              "              <dt>AppName</dt>\n",
              "                <dd><code>Transformando com Spark</code></dd>\n",
              "            </dl>\n",
              "        </div>\n",
              "        \n",
              "            </div>\n",
              "        "
            ]
          },
          "metadata": {},
          "execution_count": 3
        }
      ]
    },
    {
      "cell_type": "markdown",
      "source": [
        "Lendo os dados descompactados\n"
      ],
      "metadata": {
        "id": "ZYfivpx3HKn5"
      }
    },
    {
      "cell_type": "code",
      "source": [
        "dados = spark.read.json('/content/dados/dataset_bruto.json')"
      ],
      "metadata": {
        "id": "oN7WLRz71ZeC"
      },
      "execution_count": 4,
      "outputs": []
    },
    {
      "cell_type": "markdown",
      "source": [
        "Primeira varredura e verificação dos dados, sua informações, estrutura e volume.\n",
        "\n",
        "*   Analise a quantidade de linhas e colunas;\n",
        "*   Avalie a estrutura da base de dados;\n",
        "*   Verifique se os tipos dos dados de cada coluna estão coerentes."
      ],
      "metadata": {
        "id": "4Fn9m7skHZbX"
      }
    },
    {
      "cell_type": "code",
      "source": [
        "dados.show(5)\n",
        "print(f'Total de cadastros:', dados.count(), '/ Total de colunas:', len(dados.columns))"
      ],
      "metadata": {
        "colab": {
          "base_uri": "https://localhost:8080/"
        },
        "id": "19rzbs7Z2EwM",
        "outputId": "0f42ff1b-79ab-4083-8746-8dfd49bf9336"
      },
      "execution_count": 5,
      "outputs": [
        {
          "output_type": "stream",
          "name": "stdout",
          "text": [
            "+--------------------+--------------------+--------------------+\n",
            "|             anuncio|             imagens|             usuario|\n",
            "+--------------------+--------------------+--------------------+\n",
            "|{0, [], [16], [0]...|[{39d6282a-71f3-4...|{9d44563d-3405-4e...|\n",
            "|{0, [], [14], [0]...|[{23d2b3ab-45b0-4...|{36245be7-70fe-40...|\n",
            "|{0, [1026], [1026...|[{1da65baa-368b-4...|{9dc415d8-1397-4d...|\n",
            "|{0, [120], [120],...|[{79b542c6-49b4-4...|{9911a2df-f299-4a...|\n",
            "|{0, [3], [3], [0]...|[{e2bc497b-6510-4...|{240a7aab-12e5-40...|\n",
            "+--------------------+--------------------+--------------------+\n",
            "only showing top 5 rows\n",
            "\n",
            "Total de cadastros: 89083 / Total de colunas: 3\n"
          ]
        }
      ]
    },
    {
      "cell_type": "code",
      "source": [
        "dados.printSchema()"
      ],
      "metadata": {
        "id": "FuiP5FhB2TIc",
        "colab": {
          "base_uri": "https://localhost:8080/"
        },
        "outputId": "3e2ce6eb-e183-4b93-e15d-3b60021ea452"
      },
      "execution_count": 6,
      "outputs": [
        {
          "output_type": "stream",
          "name": "stdout",
          "text": [
            "root\n",
            " |-- anuncio: struct (nullable = true)\n",
            " |    |-- andar: long (nullable = true)\n",
            " |    |-- area_total: array (nullable = true)\n",
            " |    |    |-- element: string (containsNull = true)\n",
            " |    |-- area_util: array (nullable = true)\n",
            " |    |    |-- element: string (containsNull = true)\n",
            " |    |-- banheiros: array (nullable = true)\n",
            " |    |    |-- element: long (containsNull = true)\n",
            " |    |-- caracteristicas: array (nullable = true)\n",
            " |    |    |-- element: string (containsNull = true)\n",
            " |    |-- endereco: struct (nullable = true)\n",
            " |    |    |-- bairro: string (nullable = true)\n",
            " |    |    |-- cep: string (nullable = true)\n",
            " |    |    |-- cidade: string (nullable = true)\n",
            " |    |    |-- estado: string (nullable = true)\n",
            " |    |    |-- latitude: double (nullable = true)\n",
            " |    |    |-- longitude: double (nullable = true)\n",
            " |    |    |-- pais: string (nullable = true)\n",
            " |    |    |-- rua: string (nullable = true)\n",
            " |    |    |-- zona: string (nullable = true)\n",
            " |    |-- id: string (nullable = true)\n",
            " |    |-- quartos: array (nullable = true)\n",
            " |    |    |-- element: long (containsNull = true)\n",
            " |    |-- suites: array (nullable = true)\n",
            " |    |    |-- element: long (containsNull = true)\n",
            " |    |-- tipo_anuncio: string (nullable = true)\n",
            " |    |-- tipo_unidade: string (nullable = true)\n",
            " |    |-- tipo_uso: string (nullable = true)\n",
            " |    |-- vaga: array (nullable = true)\n",
            " |    |    |-- element: long (containsNull = true)\n",
            " |    |-- valores: array (nullable = true)\n",
            " |    |    |-- element: struct (containsNull = true)\n",
            " |    |    |    |-- condominio: string (nullable = true)\n",
            " |    |    |    |-- iptu: string (nullable = true)\n",
            " |    |    |    |-- tipo: string (nullable = true)\n",
            " |    |    |    |-- valor: string (nullable = true)\n",
            " |-- imagens: array (nullable = true)\n",
            " |    |-- element: struct (containsNull = true)\n",
            " |    |    |-- id: string (nullable = true)\n",
            " |    |    |-- url: string (nullable = true)\n",
            " |-- usuario: struct (nullable = true)\n",
            " |    |-- id: string (nullable = true)\n",
            " |    |-- nome: string (nullable = true)\n",
            "\n"
          ]
        }
      ]
    },
    {
      "cell_type": "markdown",
      "source": [
        "Nossa base de dados possui 3 campos principais:\n",
        "\n",
        "1.   anuncio\n",
        "2.   imagens\n",
        "2.   usuario\n",
        "\n",
        "Para nossa análise, apenas as informações do campo \"anuncio\" serão relevantes. Por isso, vamos focar em analisar as colunas desse campo."
      ],
      "metadata": {
        "id": "Sn-TI8YPIoqc"
      }
    },
    {
      "cell_type": "code",
      "source": [
        "anuncio = dados\\\n",
        "      .select(\n",
        "          'anuncio.*'\n",
        "      )"
      ],
      "metadata": {
        "id": "BnMoK8v64lQ8"
      },
      "execution_count": 40,
      "outputs": []
    },
    {
      "cell_type": "code",
      "source": [
        "anuncio.show(3)"
      ],
      "metadata": {
        "colab": {
          "base_uri": "https://localhost:8080/"
        },
        "id": "-C3811bt7puk",
        "outputId": "a108927d-6d2e-49c7-b259-eaf07f51a244"
      },
      "execution_count": 8,
      "outputs": [
        {
          "output_type": "stream",
          "name": "stdout",
          "text": [
            "+-----+----------+---------+---------+---------------+--------------------+--------------------+-------+------+------------+------------+---------+----+--------------------+\n",
            "|andar|area_total|area_util|banheiros|caracteristicas|            endereco|                  id|quartos|suites|tipo_anuncio|tipo_unidade| tipo_uso|vaga|             valores|\n",
            "+-----+----------+---------+---------+---------------+--------------------+--------------------+-------+------+------------+------------+---------+----+--------------------+\n",
            "|    0|        []|     [16]|      [0]|             []|{Centro, 20061003...|47d553e0-79f2-4a4...|    [0]|   [0]|       Usado|      Outros|Comercial| [1]|[{260, 107, Venda...|\n",
            "|    0|        []|     [14]|      [0]|             []|{Centro, 20051040...|b6ffbae1-17f6-487...|    [0]|    []|       Usado|      Outros|Comercial| [0]|[{260, 107, Venda...|\n",
            "|    0|    [1026]|   [1026]|      [0]|             []|{Maria da Graça, ...|1fb030a5-9e3e-4a1...|    [0]|    []|       Usado|      Outros|Comercial| [0]|[{null, 1613, Ven...|\n",
            "+-----+----------+---------+---------+---------------+--------------------+--------------------+-------+------+------------+------------+---------+----+--------------------+\n",
            "only showing top 3 rows\n",
            "\n"
          ]
        }
      ]
    },
    {
      "cell_type": "code",
      "source": [
        "#Usando o select para quantificar os tipo de anuncio no DF.\n",
        "anuncio_graf01 = anuncio\\\n",
        "      .groupBy('tipo_uso')\\\n",
        "      .count()\n",
        "\n",
        "anuncio_graf01.show()\n",
        "\n",
        "#para apresentação gráfica o DF foi convertido para Pandas\n",
        "import matplotlib.pyplot as plt\n",
        "import matplotlib\n",
        "\n",
        "anuncio_graf01 = anuncio_graf01.toPandas()\n",
        "\n",
        "plt.rcParams['figure.figsize'] = (3,2)\n",
        "matplotlib.style.use('ggplot')\n",
        "\n",
        "anuncio_graf01.plot.barh(\n",
        "    x = 'tipo_uso',\n",
        "    xlabel='Tipo de uso',\n",
        "    color='gray',\n",
        "    fontsize=8,\n",
        "    title='TIPO DE IMOVEIS ANUNCIADOS'\n",
        ")"
      ],
      "metadata": {
        "colab": {
          "base_uri": "https://localhost:8080/",
          "height": 312
        },
        "id": "XXCU6Aed7tcL",
        "outputId": "49e68bd9-fd31-4419-afae-15c9c4e100b4"
      },
      "execution_count": 9,
      "outputs": [
        {
          "output_type": "stream",
          "name": "stdout",
          "text": [
            "+-----------+-----+\n",
            "|   tipo_uso|count|\n",
            "+-----------+-----+\n",
            "|  Comercial| 4542|\n",
            "|Residencial|84541|\n",
            "+-----------+-----+\n",
            "\n"
          ]
        },
        {
          "output_type": "execute_result",
          "data": {
            "text/plain": [
              "<matplotlib.axes._subplots.AxesSubplot at 0x7fb562cf8bb0>"
            ]
          },
          "metadata": {},
          "execution_count": 9
        },
        {
          "output_type": "display_data",
          "data": {
            "text/plain": [
              "<Figure size 216x144 with 1 Axes>"
            ],
            "image/png": "[encoded data removed]"
          },
          "metadata": {}
        }
      ]
    },
    {
      "cell_type": "markdown",
      "source": [
        "O time de Data Science solicitou que fizéssemos alguns filtros nas colunas **#tipo_uso**, **#tipo_unidade** e #tipo_anuncio nossa base de dados:\n",
        "\n",
        "* tipo_uso: Residencial;\n",
        "* tipo_unidade: Apartamento;\n",
        "* tipo_anuncio: Usado.\n",
        "\n",
        "\n",
        "\n",
        "> Nota: Neste projeto em especifico eu atribui os filtros em diferente variáveis. Mas me indicaram avaliar essa necessidade, por que isso pode causar sobrecarga e aumentar o volume de dados processados na máquina local e/ou vitual causando lentidão no processo por uso desnecessário de recursos.\n",
        "\n"
      ],
      "metadata": {
        "id": "jE30AYanKol-"
      }
    },
    {
      "cell_type": "markdown",
      "source": [
        "Filtrando por tipo residêncial"
      ],
      "metadata": {
        "id": "vR9bzStmYiLW"
      }
    },
    {
      "cell_type": "code",
      "source": [
        "anuncio_residencial = anuncio\\\n",
        "      .filter(\"tipo_uso == 'Residencial'\")"
      ],
      "metadata": {
        "id": "stpajeDU8N8g"
      },
      "execution_count": 10,
      "outputs": []
    },
    {
      "cell_type": "code",
      "source": [
        "anuncio_residencial.show(3)"
      ],
      "metadata": {
        "colab": {
          "base_uri": "https://localhost:8080/"
        },
        "id": "JL8uc0gv6n1k",
        "outputId": "6d46f66d-701a-44d2-8d36-0710d9e582f9"
      },
      "execution_count": 11,
      "outputs": [
        {
          "output_type": "stream",
          "name": "stdout",
          "text": [
            "+-----+----------+---------+---------+--------------------+--------------------+--------------------+-------+------+------------+------------+-----------+----+--------------------+\n",
            "|andar|area_total|area_util|banheiros|     caracteristicas|            endereco|                  id|quartos|suites|tipo_anuncio|tipo_unidade|   tipo_uso|vaga|             valores|\n",
            "+-----+----------+---------+---------+--------------------+--------------------+--------------------+-------+------+------------+------------+-----------+----+--------------------+\n",
            "|    0|     [120]|    [120]|      [0]|[Portão eletrônic...|{Campo Grande, 23...|ac6cb348-69d6-45a...|    [0]|    []|       Usado|      Outros|Residencial|  []|[{80, null, Venda...|\n",
            "|    0|       [3]|      [3]|      [0]|                  []|{São Cristóvão, 2...|e032b908-ef42-4d4...|    [0]|    []|       Usado|      Outros|Residencial|  []|[{0, 0, Venda, 50...|\n",
            "|    3|      [43]|     [43]|      [1]|[Academia, Churra...|{Paciência, 23585...|d2e3a3aa-09b5-45a...|    [2]|    []|       Usado| Apartamento|Residencial| [1]|[{245, null, Vend...|\n",
            "+-----+----------+---------+---------+--------------------+--------------------+--------------------+-------+------+------------+------------+-----------+----+--------------------+\n",
            "only showing top 3 rows\n",
            "\n"
          ]
        }
      ]
    },
    {
      "cell_type": "markdown",
      "source": [
        "Nesta célula para melhor interpretação das grandezas dos dodas filtrados foi necessário converter o parâmetro anuncio_graf02 para Pandas (me paraceu mais simples as linhas de comando)."
      ],
      "metadata": {
        "id": "1zWqWzy6sRZM"
      }
    },
    {
      "cell_type": "code",
      "source": [
        "import pyspark\n",
        "from pyspark.sql.functions import col, asc, desc\n",
        "\n",
        "anuncio_graf02 = anuncio_residencial\\\n",
        "      .groupBy('tipo_unidade')\\\n",
        "      .count()\n",
        "\n",
        "anuncio_graf02.show()\n",
        "\n",
        "anuncio_graf02 = anuncio_graf02.toPandas()\n",
        "\n",
        "plt.rcParams['figure.figsize'] = (4,3)\n",
        "matplotlib.style.use('ggplot')\n",
        "\n",
        "anuncio_graf02.plot.barh(\n",
        "    x = 'tipo_unidade',\n",
        "    xlabel = 'Tipos de residências',\n",
        "    color = 'gray',\n",
        "    fontsize = 8,\n",
        "    title = 'ANUNCIOS RESIDENCIAIS'\n",
        ")"
      ],
      "metadata": {
        "colab": {
          "base_uri": "https://localhost:8080/",
          "height": 383
        },
        "id": "9xmneskO9Oky",
        "outputId": "f01bb77b-f429-4ff5-e864-ee2533415a19"
      },
      "execution_count": 12,
      "outputs": [
        {
          "output_type": "stream",
          "name": "stdout",
          "text": [
            "+------------+-----+\n",
            "|tipo_unidade|count|\n",
            "+------------+-----+\n",
            "|      Outros| 7517|\n",
            "| Apartamento|66797|\n",
            "|        Casa|10227|\n",
            "+------------+-----+\n",
            "\n"
          ]
        },
        {
          "output_type": "execute_result",
          "data": {
            "text/plain": [
              "<matplotlib.axes._subplots.AxesSubplot at 0x7fb56a6c9af0>"
            ]
          },
          "metadata": {},
          "execution_count": 12
        },
        {
          "output_type": "display_data",
          "data": {
            "text/plain": [
              "<Figure size 288x216 with 1 Axes>"
            ],
            "image/png": "[encoded data removed]"
          },
          "metadata": {}
        }
      ]
    },
    {
      "cell_type": "markdown",
      "source": [
        "Filtrando por tipo apartamentos"
      ],
      "metadata": {
        "id": "xnkuZgmwLhWo"
      }
    },
    {
      "cell_type": "code",
      "source": [
        "anuncio_apartamento = anuncio_residencial\\\n",
        "        .filter(\"tipo_unidade == 'Apartamento'\")\n",
        "\n",
        "anuncio_apartamento.show(3)"
      ],
      "metadata": {
        "colab": {
          "base_uri": "https://localhost:8080/"
        },
        "id": "4dei8VzD959H",
        "outputId": "3e4b2c8f-a461-4057-9cde-c581ea4cf3a1"
      },
      "execution_count": 13,
      "outputs": [
        {
          "output_type": "stream",
          "name": "stdout",
          "text": [
            "+-----+----------+---------+---------+--------------------+--------------------+--------------------+-------+------+------------+------------+-----------+----+--------------------+\n",
            "|andar|area_total|area_util|banheiros|     caracteristicas|            endereco|                  id|quartos|suites|tipo_anuncio|tipo_unidade|   tipo_uso|vaga|             valores|\n",
            "+-----+----------+---------+---------+--------------------+--------------------+--------------------+-------+------+------------+------------+-----------+----+--------------------+\n",
            "|    3|      [43]|     [43]|      [1]|[Academia, Churra...|{Paciência, 23585...|d2e3a3aa-09b5-45a...|    [2]|    []|       Usado| Apartamento|Residencial| [1]|[{245, null, Vend...|\n",
            "|    2|      [42]|     [42]|      [1]|[Churrasqueira, P...|{Paciência, 23585...|085bab2c-87ad-452...|    [2]|    []|       Usado| Apartamento|Residencial| [1]|[{0, 0, Venda, 15...|\n",
            "|    1|      [41]|     [41]|      [1]|[Portaria 24h, Co...|{Guaratiba, 23036...|18d22cbe-1b86-476...|    [2]|    []|       Usado| Apartamento|Residencial| [1]|[{0, 0, Venda, 20...|\n",
            "+-----+----------+---------+---------+--------------------+--------------------+--------------------+-------+------+------------+------------+-----------+----+--------------------+\n",
            "only showing top 3 rows\n",
            "\n"
          ]
        }
      ]
    },
    {
      "cell_type": "markdown",
      "source": [
        "Filtrando os apartamento pelo estado de uso."
      ],
      "metadata": {
        "id": "kW1DUZT-OAd9"
      }
    },
    {
      "cell_type": "code",
      "source": [
        "anuncio_tipo_usado = anuncio_apartamento\\\n",
        "      .filter(\"tipo_anuncio == 'Usado'\")\n",
        "\n",
        "anuncio_tipo_usado\\\n",
        "      .groupBy('tipo_anuncio')\\\n",
        "      .count()\\\n",
        "      .show()\n",
        "\n",
        "anuncio_tipo_usado.show(4)"
      ],
      "metadata": {
        "id": "f0iFPiK5-fDd",
        "colab": {
          "base_uri": "https://localhost:8080/"
        },
        "outputId": "faa3bce0-94e2-417e-98d5-2c28439621a1"
      },
      "execution_count": 14,
      "outputs": [
        {
          "output_type": "stream",
          "name": "stdout",
          "text": [
            "+------------+-----+\n",
            "|tipo_anuncio|count|\n",
            "+------------+-----+\n",
            "|       Usado|66562|\n",
            "+------------+-----+\n",
            "\n",
            "+-----+----------+---------+---------+--------------------+--------------------+--------------------+-------+------+------------+------------+-----------+----+--------------------+\n",
            "|andar|area_total|area_util|banheiros|     caracteristicas|            endereco|                  id|quartos|suites|tipo_anuncio|tipo_unidade|   tipo_uso|vaga|             valores|\n",
            "+-----+----------+---------+---------+--------------------+--------------------+--------------------+-------+------+------------+------------+-----------+----+--------------------+\n",
            "|    3|      [43]|     [43]|      [1]|[Academia, Churra...|{Paciência, 23585...|d2e3a3aa-09b5-45a...|    [2]|    []|       Usado| Apartamento|Residencial| [1]|[{245, null, Vend...|\n",
            "|    2|      [42]|     [42]|      [1]|[Churrasqueira, P...|{Paciência, 23585...|085bab2c-87ad-452...|    [2]|    []|       Usado| Apartamento|Residencial| [1]|[{0, 0, Venda, 15...|\n",
            "|    1|      [41]|     [41]|      [1]|[Portaria 24h, Co...|{Guaratiba, 23036...|18d22cbe-1b86-476...|    [2]|    []|       Usado| Apartamento|Residencial| [1]|[{0, 0, Venda, 20...|\n",
            "|    3|      [43]|     [43]|      [1]|[Churrasqueira, P...|{Cosmos, 23066271...|bed8a354-9317-442...|    [2]|    []|       Usado| Apartamento|Residencial| [0]|[{285, null, Vend...|\n",
            "+-----+----------+---------+---------+--------------------+--------------------+--------------------+-------+------+------------+------------+-----------+----+--------------------+\n",
            "only showing top 4 rows\n",
            "\n"
          ]
        }
      ]
    },
    {
      "cell_type": "markdown",
      "source": [
        "Como foi visto algumas colunas possuiem listas armazenando dados inteiros. Então precisamos verificar se dentro destas listas quantos dados elas pussuem, em seguida remover os dados dentro da lista. \n",
        "Exemplo: coluna quartos."
      ],
      "metadata": {
        "id": "dPRuton6vst5"
      }
    },
    {
      "cell_type": "markdown",
      "source": [
        "Verificação apenas da coluna quartos."
      ],
      "metadata": {
        "id": "3x1zel5DxEYS"
      }
    },
    {
      "cell_type": "code",
      "source": [
        "from pyspark.sql import functions as f\n",
        "\n",
        "anuncio_tipo_usado\\\n",
        "        .select(f.size(f.col('quartos')).alias('quartos'))\\\n",
        "        .groupBy('quartos')\\\n",
        "        .count()\\\n",
        "        .show()"
      ],
      "metadata": {
        "colab": {
          "base_uri": "https://localhost:8080/"
        },
        "id": "EtZDrcYFzq5M",
        "outputId": "21608909-c32e-4c64-b9c1-3c3a4065fc90"
      },
      "execution_count": 15,
      "outputs": [
        {
          "output_type": "stream",
          "name": "stdout",
          "text": [
            "+-------+-----+\n",
            "|quartos|count|\n",
            "+-------+-----+\n",
            "|      1|66562|\n",
            "+-------+-----+\n",
            "\n"
          ]
        }
      ]
    },
    {
      "cell_type": "markdown",
      "source": [
        "Código para verificar várias colunas simultaneamente."
      ],
      "metadata": {
        "id": "e9_IHvInxLcb"
      }
    },
    {
      "cell_type": "code",
      "source": [
        "caracteristicas = ['area_total', 'area_util', 'banheiros', 'quartos', 'suites', 'vaga', 'valores']\n",
        "\n",
        "for col in caracteristicas:\n",
        "    anuncio_tipo_usado\\\n",
        "        .select(f.size(f.col(col)).alias(col))\\\n",
        "        .groupBy(col)\\\n",
        "        .count()\\\n",
        "        .show()"
      ],
      "metadata": {
        "colab": {
          "base_uri": "https://localhost:8080/"
        },
        "id": "2A0il36i1Eio",
        "outputId": "edc60aa6-5479-4449-f417-b8ad609a4782"
      },
      "execution_count": 16,
      "outputs": [
        {
          "output_type": "stream",
          "name": "stdout",
          "text": [
            "+----------+-----+\n",
            "|area_total|count|\n",
            "+----------+-----+\n",
            "|         1|57368|\n",
            "|         0| 9194|\n",
            "+----------+-----+\n",
            "\n",
            "+---------+-----+\n",
            "|area_util|count|\n",
            "+---------+-----+\n",
            "|        1|66562|\n",
            "+---------+-----+\n",
            "\n",
            "+---------+-----+\n",
            "|banheiros|count|\n",
            "+---------+-----+\n",
            "|        1|66562|\n",
            "+---------+-----+\n",
            "\n",
            "+-------+-----+\n",
            "|quartos|count|\n",
            "+-------+-----+\n",
            "|      1|66562|\n",
            "+-------+-----+\n",
            "\n",
            "+------+-----+\n",
            "|suites|count|\n",
            "+------+-----+\n",
            "|     1|61008|\n",
            "|     0| 5554|\n",
            "+------+-----+\n",
            "\n",
            "+----+-----+\n",
            "|vaga|count|\n",
            "+----+-----+\n",
            "|   1|63545|\n",
            "|   0| 3017|\n",
            "+----+-----+\n",
            "\n",
            "+-------+-----+\n",
            "|valores|count|\n",
            "+-------+-----+\n",
            "|      1|65941|\n",
            "|      2|  621|\n",
            "+-------+-----+\n",
            "\n"
          ]
        }
      ]
    },
    {
      "cell_type": "markdown",
      "source": [
        "Removendo os dados das listas."
      ],
      "metadata": {
        "id": "xLw0DkzOxYH3"
      }
    },
    {
      "cell_type": "code",
      "source": [
        "anuncio_tipo_usado = anuncio_tipo_usado\\\n",
        "      .select([f.col(c)[0].alias(c) if c in caracteristicas else c for c in anuncio_tipo_usado.columns])\n",
        "\n",
        "anuncio_tipo_usado.show(3)"
      ],
      "metadata": {
        "colab": {
          "base_uri": "https://localhost:8080/"
        },
        "id": "mik3xWtkMH03",
        "outputId": "512faec3-b8d5-45fd-e1b2-82dc6a625679"
      },
      "execution_count": 17,
      "outputs": [
        {
          "output_type": "stream",
          "name": "stdout",
          "text": [
            "+-----+----------+---------+---------+--------------------+--------------------+--------------------+-------+------+------------+------------+-----------+----+--------------------+\n",
            "|andar|area_total|area_util|banheiros|     caracteristicas|            endereco|                  id|quartos|suites|tipo_anuncio|tipo_unidade|   tipo_uso|vaga|             valores|\n",
            "+-----+----------+---------+---------+--------------------+--------------------+--------------------+-------+------+------------+------------+-----------+----+--------------------+\n",
            "|    3|        43|       43|        1|[Academia, Churra...|{Paciência, 23585...|d2e3a3aa-09b5-45a...|      2|  null|       Usado| Apartamento|Residencial|   1|{245, null, Venda...|\n",
            "|    2|        42|       42|        1|[Churrasqueira, P...|{Paciência, 23585...|085bab2c-87ad-452...|      2|  null|       Usado| Apartamento|Residencial|   1|{0, 0, Venda, 15000}|\n",
            "|    1|        41|       41|        1|[Portaria 24h, Co...|{Guaratiba, 23036...|18d22cbe-1b86-476...|      2|  null|       Usado| Apartamento|Residencial|   1|{0, 0, Venda, 20000}|\n",
            "+-----+----------+---------+---------+--------------------+--------------------+--------------------+-------+------+------------+------------+-----------+----+--------------------+\n",
            "only showing top 3 rows\n",
            "\n"
          ]
        }
      ]
    },
    {
      "cell_type": "markdown",
      "source": [
        "\n",
        "\n",
        "---\n",
        "\n",
        "\n",
        "\n",
        "---\n",
        "\n",
        "\n",
        "Descrição\n",
        "A equipe de ciência de dados nos solicitou que apenas as informações sobre bairro e zona da cidade fossem extraídas.\n",
        "\n",
        "Então, vamos analisar a coluna endereco e transformar apenas as informações sobre **bairro e zona** em colunas de nosso DataFrame."
      ],
      "metadata": {
        "id": "NR4Byq6054e-"
      }
    },
    {
      "cell_type": "code",
      "source": [
        "anuncio_zonas = anuncio_tipo_usado\\\n",
        "        .select(\n",
        "            'endereco.*'\n",
        "        )\\\n",
        "        .select(\n",
        "            'bairro', 'zona'\n",
        "        )\n",
        "\n",
        "anuncio_zonas.show(4)\n",
        "\n",
        "anuncio_graf03 = anuncio_zonas\\\n",
        "      .groupBy('zona')\\\n",
        "      .count()\n",
        "\n",
        "anuncio_graf03.show()\n",
        "\n",
        "anuncio_graf03 = anuncio_graf03.toPandas()\n",
        "\n",
        "plt.rcParams['figure.figsize'] = (4,3)\n",
        "matplotlib.style.use('ggplot')\n",
        "\n",
        "anuncio_graf03.plot.barh(\n",
        "    x = 'zona',\n",
        "    xlabel = 'Zonas',\n",
        "    color = 'gray',\n",
        "    fontsize = 8,\n",
        "    title = 'LOCALIZAÇÃO NAS ZONAS'\n",
        ")"
      ],
      "metadata": {
        "id": "72eNG2PjWoWE",
        "colab": {
          "base_uri": "https://localhost:8080/",
          "height": 593
        },
        "outputId": "1be06a14-43b3-46ca-9c9f-cacf92b70fe1"
      },
      "execution_count": 18,
      "outputs": [
        {
          "output_type": "stream",
          "name": "stdout",
          "text": [
            "+---------+----------+\n",
            "|   bairro|      zona|\n",
            "+---------+----------+\n",
            "|Paciência|Zona Oeste|\n",
            "|Paciência|Zona Oeste|\n",
            "|Guaratiba|Zona Oeste|\n",
            "|   Cosmos|Zona Oeste|\n",
            "+---------+----------+\n",
            "only showing top 4 rows\n",
            "\n",
            "+------------+-----+\n",
            "|        zona|count|\n",
            "+------------+-----+\n",
            "|  Zona Norte|11897|\n",
            "|  Zona Oeste|32979|\n",
            "|Zona Central| 1144|\n",
            "|    Zona Sul|20531|\n",
            "|            |   11|\n",
            "+------------+-----+\n",
            "\n"
          ]
        },
        {
          "output_type": "execute_result",
          "data": {
            "text/plain": [
              "<matplotlib.axes._subplots.AxesSubplot at 0x7fb562720a30>"
            ]
          },
          "metadata": {},
          "execution_count": 18
        },
        {
          "output_type": "display_data",
          "data": {
            "text/plain": [
              "<Figure size 288x216 with 1 Axes>"
            ],
            "image/png": "[encoded data removed]"
          },
          "metadata": {}
        }
      ]
    },
    {
      "cell_type": "markdown",
      "source": [
        "\n",
        "\n",
        "---\n",
        "\n",
        "\n",
        "\n",
        "---\n",
        "\n",
        "\n",
        "Pensando em simplificar a compreensão dos dados para as pessoas cientistas de dados, vamos entender a estrutura da coluna valores que é a mais importante da base de dados.\n",
        "\n",
        "1. root\n",
        "2.   |  -- valores: array (nullable = true)\n",
        "3.   |     |  -- element: struct (containsNull = true)\n",
        "4.   |     |      |  -- condominio: string (nullable = true)\n",
        "5.   |     |      |  -- iptu: string (nullable = true) \n",
        "6.   |     |      |  -- tipo: string (nullable = true)\n",
        "7.   |     |      |  -- valor: string (nullable = true)\n",
        "\n",
        "Podemos observar que os valores são do tipo array, ou seja, uma lista que contém elementos. Estes elementos são dicionários com as informações de condominio, iptu, tipo, e valor.\n",
        "\n",
        "Nesse contexto, transforme os dados da coluna valores em colunas separadas."
      ],
      "metadata": {
        "id": "QrHw-KKAT3th"
      }
    },
    {
      "cell_type": "code",
      "source": [
        "from pyspark.sql.types import DoubleType, StringType\n",
        "\n",
        "anuncio_valores = anuncio_tipo_usado\\\n",
        "      .select(\n",
        "          'valores.*'\n",
        "      )\\\n",
        "      \n",
        "anuncio_valores = anuncio_valores\\\n",
        "      .withColumn(\n",
        "          'condominio', anuncio_valores['condominio'].cast(DoubleType())\n",
        "      )\\\n",
        "      .withColumn(\n",
        "          'iptu', anuncio_valores['iptu'].cast(DoubleType())\n",
        "      )\\\n",
        "      .withColumn(\n",
        "          'valor', anuncio_valores['valor'].cast(DoubleType())\n",
        "      )\n",
        "\n",
        "anuncio_valores.show(4)\n",
        "\n",
        "sumario_01 = anuncio_valores.select('condominio', 'iptu', 'valor').summary('min', 'mean', 'max')\n",
        "\n",
        "sumario_01.show()\n",
        "\n",
        "# sumario_01 = sumario_01.toPandas()\n",
        "# sumario_01.round(2)\n",
        "\n",
        "# decimals = spark.Series([2, 2, 2], index=['condominio', 'iptu', 'valor'])\n",
        "# sumario_01.round(2)"
      ],
      "metadata": {
        "colab": {
          "base_uri": "https://localhost:8080/"
        },
        "id": "-nEyJ4SK6nCY",
        "outputId": "e6b9d01d-141c-4a75-9c38-b74c000792e2"
      },
      "execution_count": 21,
      "outputs": [
        {
          "output_type": "stream",
          "name": "stdout",
          "text": [
            "+----------+----+-----+-------+\n",
            "|condominio|iptu| tipo|  valor|\n",
            "+----------+----+-----+-------+\n",
            "|     245.0|null|Venda|15000.0|\n",
            "|       0.0| 0.0|Venda|15000.0|\n",
            "|       0.0| 0.0|Venda|20000.0|\n",
            "|     285.0|null|Venda|20000.0|\n",
            "+----------+----+-----+-------+\n",
            "only showing top 4 rows\n",
            "\n",
            "+-------+----------------+-----------------+------------------+\n",
            "|summary|      condominio|             iptu|             valor|\n",
            "+-------+----------------+-----------------+------------------+\n",
            "|    min|             0.0|              0.0|             550.0|\n",
            "|   mean|4822.03303120912|5447.897878073425|1289596.0820137616|\n",
            "|    max|           1.1E7|            2.0E7|            1.39E7|\n",
            "+-------+----------------+-----------------+------------------+\n",
            "\n"
          ]
        }
      ]
    },
    {
      "cell_type": "markdown",
      "source": [
        "\n",
        "\n",
        "---\n",
        "\n",
        "\n",
        "\n",
        "---\n",
        "\n",
        "\n",
        "A InsightPlaces permite que o(a) anunciante crie um anúncio com duas opções de valor. Assim, o(a) cliente pode criar um anúncio que mostre tanto o valor de venda do imóvel quanto o seu valor de locação, juntamente com os valores de taxa de condomínio (quando houver) e taxa de IPTU. Estes valores são diferenciados pelo campo tipo que pode assumir os valores Venda e Aluguel.\n",
        "\n",
        "Como se trata de um estudo sobre o preço de venda dos imóveis, o time de cientistas de dados solicitou apenas as informações do tipo **VENDA**.\n",
        "\n",
        "Selecione apenas os valores de Venda"
      ],
      "metadata": {
        "id": "moYLRNWpC554"
      }
    },
    {
      "cell_type": "code",
      "source": [
        "anuncio_valores\\\n",
        "      .filter(\"tipo == 'Venda'\")\\\n",
        "      .show(4)"
      ],
      "metadata": {
        "colab": {
          "base_uri": "https://localhost:8080/"
        },
        "id": "137vaC1SXqrT",
        "outputId": "499a75c2-9cd7-4ca7-aabb-e945b6406dd5"
      },
      "execution_count": 22,
      "outputs": [
        {
          "output_type": "stream",
          "name": "stdout",
          "text": [
            "+----------+----+-----+-------+\n",
            "|condominio|iptu| tipo|  valor|\n",
            "+----------+----+-----+-------+\n",
            "|     245.0|null|Venda|15000.0|\n",
            "|       0.0| 0.0|Venda|15000.0|\n",
            "|       0.0| 0.0|Venda|20000.0|\n",
            "|     285.0|null|Venda|20000.0|\n",
            "+----------+----+-----+-------+\n",
            "only showing top 4 rows\n",
            "\n"
          ]
        }
      ]
    },
    {
      "cell_type": "code",
      "source": [
        "anuncio_tipo_usado.printSchema()"
      ],
      "metadata": {
        "id": "Qw294VKnH8h2"
      },
      "execution_count": null,
      "outputs": []
    },
    {
      "cell_type": "markdown",
      "source": [
        "---\n",
        "Salvar o arquivo no formato parquet"
      ],
      "metadata": {
        "id": "5qih0OHTauD1"
      }
    },
    {
      "cell_type": "code",
      "source": [
        "anuncio_tipo_usado.write.parquet(\n",
        "    '/content/dados/parquet',\n",
        "    mode='overwrite'\n",
        ")"
      ],
      "metadata": {
        "id": "rbAmcHDumjUA"
      },
      "execution_count": 29,
      "outputs": []
    },
    {
      "cell_type": "code",
      "source": [
        "anuncio_tipo_usado_parquet = spark.read.parquet(\n",
        "    '/content/dados/parquet',\n",
        "    sep=';',\n",
        "    inferSchema=True,\n",
        "    header=True\n",
        ")\n",
        "\n",
        "anuncio_tipo_usado_parquet.show(5)"
      ],
      "metadata": {
        "colab": {
          "base_uri": "https://localhost:8080/"
        },
        "id": "Q3XUnhpRfXr2",
        "outputId": "42a1f5e4-65dd-44da-d2f3-c704cf81a7ff"
      },
      "execution_count": 32,
      "outputs": [
        {
          "output_type": "stream",
          "name": "stdout",
          "text": [
            "+-----+----------+---------+---------+--------------------+--------------------+--------------------+-------+------+------------+------------+-----------+----+--------------------+\n",
            "|andar|area_total|area_util|banheiros|     caracteristicas|            endereco|                  id|quartos|suites|tipo_anuncio|tipo_unidade|   tipo_uso|vaga|             valores|\n",
            "+-----+----------+---------+---------+--------------------+--------------------+--------------------+-------+------+------------+------------+-----------+----+--------------------+\n",
            "|    3|        43|       43|        1|[Academia, Churra...|{Paciência, 23585...|d2e3a3aa-09b5-45a...|      2|  null|       Usado| Apartamento|Residencial|   1|{245, null, Venda...|\n",
            "|    2|        42|       42|        1|[Churrasqueira, P...|{Paciência, 23585...|085bab2c-87ad-452...|      2|  null|       Usado| Apartamento|Residencial|   1|{0, 0, Venda, 15000}|\n",
            "|    1|        41|       41|        1|[Portaria 24h, Co...|{Guaratiba, 23036...|18d22cbe-1b86-476...|      2|  null|       Usado| Apartamento|Residencial|   1|{0, 0, Venda, 20000}|\n",
            "|    3|        43|       43|        1|[Churrasqueira, P...|{Cosmos, 23066271...|bed8a354-9317-442...|      2|  null|       Usado| Apartamento|Residencial|   0|{285, null, Venda...|\n",
            "|    2|        43|       43|        1|[Academia, Churra...|{Guaratiba, 23036...|12a13315-d67f-48f...|      2|  null|       Usado| Apartamento|Residencial|   1|{245, null, Venda...|\n",
            "+-----+----------+---------+---------+--------------------+--------------------+--------------------+-------+------+------------+------------+-----------+----+--------------------+\n",
            "only showing top 5 rows\n",
            "\n"
          ]
        }
      ]
    },
    {
      "cell_type": "markdown",
      "source": [
        "Você pode utilizar o %%time para verificar o tempo de execução de determinado código."
      ],
      "metadata": {
        "id": "NAq-iGu3vexN"
      }
    },
    {
      "cell_type": "code",
      "source": [
        "%time\n",
        "anuncio = spark.read.parquet(\n",
        "    '/content/dados/parquet',\n",
        "    sep=';',\n",
        "    inferSchema=True,\n",
        "    header=True\n",
        ")"
      ],
      "metadata": {
        "colab": {
          "base_uri": "https://localhost:8080/"
        },
        "id": "ylLddzb8hGdi",
        "outputId": "3fa858ee-c176-4777-d76e-fb2f3030fbaf"
      },
      "execution_count": 49,
      "outputs": [
        {
          "output_type": "stream",
          "name": "stdout",
          "text": [
            "CPU times: user 3 µs, sys: 0 ns, total: 3 µs\n",
            "Wall time: 7.39 µs\n"
          ]
        }
      ]
    },
    {
      "cell_type": "code",
      "source": [
        "%time\n",
        "anuncio = spark.read.json(\n",
        "    '/content/dados/dataset_bruto.json',\n",
        ")"
      ],
      "metadata": {
        "colab": {
          "base_uri": "https://localhost:8080/"
        },
        "id": "-gt13fdxuyCc",
        "outputId": "264579b6-ddca-4c32-f368-5a40bcece28c"
      },
      "execution_count": 48,
      "outputs": [
        {
          "output_type": "stream",
          "name": "stdout",
          "text": [
            "CPU times: user 4 µs, sys: 0 ns, total: 4 µs\n",
            "Wall time: 7.63 µs\n"
          ]
        }
      ]
    }
  ]
}